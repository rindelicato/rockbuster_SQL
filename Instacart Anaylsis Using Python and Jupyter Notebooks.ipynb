{
 "cells": [
  {
   "cell_type": "code",
   "execution_count": 1,
   "metadata": {},
   "outputs": [],
   "source": [
    "# Import libraries\n",
    "import pandas as pd\n",
    "import numpy as np\n",
    "import os\n",
    "import matplotlib.pyplot as plt\n",
    "import seaborn as sns\n",
    "import scipy"
   ]
  },
  {
   "cell_type": "code",
   "execution_count": 2,
   "metadata": {},
   "outputs": [],
   "source": [
    "path = r'C:\\Users\\rinde\\Downloads\\Instacart-Basket-Analysis-11-2023\\Instacart Basket Analysis 11-2023'"
   ]
  },
  {
   "cell_type": "code",
   "execution_count": 3,
   "metadata": {},
   "outputs": [],
   "source": [
    "# Import dataset\n",
    "df_ords_prods_big = pd.read_pickle(os.path.join(path,'02 Data','Prepared Data','orders_products_big.pkl'))"
   ]
  },
  {
   "cell_type": "code",
   "execution_count": 4,
   "metadata": {},
   "outputs": [],
   "source": [
    "# Import product department index\n",
    "department_index = pd.read_csv(os.path.join(path,'02 Data','Prepared Data','departments_wrangled.csv'), index_col = False)"
   ]
  },
  {
   "cell_type": "code",
   "execution_count": 5,
   "metadata": {},
   "outputs": [],
   "source": [
    "# 2 Geogrpahic segmentation"
   ]
  },
  {
   "cell_type": "code",
   "execution_count": 6,
   "metadata": {},
   "outputs": [],
   "source": [
    "# Define regions\n"
   ]
  },
  {
   "cell_type": "code",
   "execution_count": 7,
   "metadata": {},
   "outputs": [],
   "source": [
    "# Define West states\n",
    "west_states = ['Idaho','Montana','Wyoming','Nevada','Utah','Colorado','Arizona','New Mexico','Alaska','Washington','Oregon','California','Hawaii']\n"
   ]
  },
  {
   "cell_type": "code",
   "execution_count": 8,
   "metadata": {},
   "outputs": [
    {
     "data": {
      "text/html": [
       "<div>\n",
       "<style scoped>\n",
       "    .dataframe tbody tr th:only-of-type {\n",
       "        vertical-align: middle;\n",
       "    }\n",
       "\n",
       "    .dataframe tbody tr th {\n",
       "        vertical-align: top;\n",
       "    }\n",
       "\n",
       "    .dataframe thead th {\n",
       "        text-align: right;\n",
       "    }\n",
       "</style>\n",
       "<table border=\"1\" class=\"dataframe\">\n",
       "  <thead>\n",
       "    <tr style=\"text-align: right;\">\n",
       "      <th></th>\n",
       "      <th>product_id</th>\n",
       "      <th>product_name</th>\n",
       "      <th>aisle_id</th>\n",
       "      <th>department_id</th>\n",
       "      <th>prices</th>\n",
       "      <th>order_id</th>\n",
       "      <th>user_id</th>\n",
       "      <th>eval_set</th>\n",
       "      <th>order_number</th>\n",
       "      <th>order_dow</th>\n",
       "      <th>...</th>\n",
       "      <th>frequency_flag</th>\n",
       "      <th>First Name</th>\n",
       "      <th>Surnam</th>\n",
       "      <th>Gender</th>\n",
       "      <th>State</th>\n",
       "      <th>Age</th>\n",
       "      <th>dependants</th>\n",
       "      <th>family_status</th>\n",
       "      <th>income</th>\n",
       "      <th>_merge</th>\n",
       "    </tr>\n",
       "  </thead>\n",
       "  <tbody>\n",
       "    <tr>\n",
       "      <th>0</th>\n",
       "      <td>33664</td>\n",
       "      <td>2 % Reduced Fat  Milk</td>\n",
       "      <td>84</td>\n",
       "      <td>16</td>\n",
       "      <td>99999.0</td>\n",
       "      <td>183964</td>\n",
       "      <td>873</td>\n",
       "      <td>prior</td>\n",
       "      <td>3</td>\n",
       "      <td>0</td>\n",
       "      <td>...</td>\n",
       "      <td>Frequent Customer</td>\n",
       "      <td>Edward</td>\n",
       "      <td>Carr</td>\n",
       "      <td>Male</td>\n",
       "      <td>Colorado</td>\n",
       "      <td>64</td>\n",
       "      <td>3</td>\n",
       "      <td>married</td>\n",
       "      <td>290220</td>\n",
       "      <td>both</td>\n",
       "    </tr>\n",
       "    <tr>\n",
       "      <th>1</th>\n",
       "      <td>33664</td>\n",
       "      <td>2 % Reduced Fat  Milk</td>\n",
       "      <td>84</td>\n",
       "      <td>16</td>\n",
       "      <td>99999.0</td>\n",
       "      <td>1851256</td>\n",
       "      <td>873</td>\n",
       "      <td>prior</td>\n",
       "      <td>4</td>\n",
       "      <td>6</td>\n",
       "      <td>...</td>\n",
       "      <td>Frequent Customer</td>\n",
       "      <td>Edward</td>\n",
       "      <td>Carr</td>\n",
       "      <td>Male</td>\n",
       "      <td>Colorado</td>\n",
       "      <td>64</td>\n",
       "      <td>3</td>\n",
       "      <td>married</td>\n",
       "      <td>290220</td>\n",
       "      <td>both</td>\n",
       "    </tr>\n",
       "    <tr>\n",
       "      <th>2</th>\n",
       "      <td>9020</td>\n",
       "      <td>Boneless Skinless Chicken Thighs</td>\n",
       "      <td>35</td>\n",
       "      <td>12</td>\n",
       "      <td>25.0</td>\n",
       "      <td>696790</td>\n",
       "      <td>873</td>\n",
       "      <td>prior</td>\n",
       "      <td>5</td>\n",
       "      <td>6</td>\n",
       "      <td>...</td>\n",
       "      <td>Frequent Customer</td>\n",
       "      <td>Edward</td>\n",
       "      <td>Carr</td>\n",
       "      <td>Male</td>\n",
       "      <td>Colorado</td>\n",
       "      <td>64</td>\n",
       "      <td>3</td>\n",
       "      <td>married</td>\n",
       "      <td>290220</td>\n",
       "      <td>both</td>\n",
       "    </tr>\n",
       "    <tr>\n",
       "      <th>3</th>\n",
       "      <td>7877</td>\n",
       "      <td>Chicken Thighs</td>\n",
       "      <td>49</td>\n",
       "      <td>12</td>\n",
       "      <td>23.0</td>\n",
       "      <td>183964</td>\n",
       "      <td>873</td>\n",
       "      <td>prior</td>\n",
       "      <td>3</td>\n",
       "      <td>0</td>\n",
       "      <td>...</td>\n",
       "      <td>Frequent Customer</td>\n",
       "      <td>Edward</td>\n",
       "      <td>Carr</td>\n",
       "      <td>Male</td>\n",
       "      <td>Colorado</td>\n",
       "      <td>64</td>\n",
       "      <td>3</td>\n",
       "      <td>married</td>\n",
       "      <td>290220</td>\n",
       "      <td>both</td>\n",
       "    </tr>\n",
       "    <tr>\n",
       "      <th>4</th>\n",
       "      <td>33464</td>\n",
       "      <td>Fresh Boneless Skinless Chicken Breasts</td>\n",
       "      <td>49</td>\n",
       "      <td>12</td>\n",
       "      <td>22.0</td>\n",
       "      <td>1744567</td>\n",
       "      <td>873</td>\n",
       "      <td>prior</td>\n",
       "      <td>2</td>\n",
       "      <td>0</td>\n",
       "      <td>...</td>\n",
       "      <td>Frequent Customer</td>\n",
       "      <td>Edward</td>\n",
       "      <td>Carr</td>\n",
       "      <td>Male</td>\n",
       "      <td>Colorado</td>\n",
       "      <td>64</td>\n",
       "      <td>3</td>\n",
       "      <td>married</td>\n",
       "      <td>290220</td>\n",
       "      <td>both</td>\n",
       "    </tr>\n",
       "  </tbody>\n",
       "</table>\n",
       "<p>5 rows × 30 columns</p>\n",
       "</div>"
      ],
      "text/plain": [
       "   product_id                             product_name  aisle_id  \\\n",
       "0       33664                    2 % Reduced Fat  Milk        84   \n",
       "1       33664                    2 % Reduced Fat  Milk        84   \n",
       "2        9020         Boneless Skinless Chicken Thighs        35   \n",
       "3        7877                           Chicken Thighs        49   \n",
       "4       33464  Fresh Boneless Skinless Chicken Breasts        49   \n",
       "\n",
       "   department_id   prices  order_id  user_id eval_set  order_number  \\\n",
       "0             16  99999.0    183964      873    prior             3   \n",
       "1             16  99999.0   1851256      873    prior             4   \n",
       "2             12     25.0    696790      873    prior             5   \n",
       "3             12     23.0    183964      873    prior             3   \n",
       "4             12     22.0   1744567      873    prior             2   \n",
       "\n",
       "   order_dow  ...     frequency_flag  First Name  Surnam  Gender     State  \\\n",
       "0          0  ...  Frequent Customer      Edward    Carr    Male  Colorado   \n",
       "1          6  ...  Frequent Customer      Edward    Carr    Male  Colorado   \n",
       "2          6  ...  Frequent Customer      Edward    Carr    Male  Colorado   \n",
       "3          0  ...  Frequent Customer      Edward    Carr    Male  Colorado   \n",
       "4          0  ...  Frequent Customer      Edward    Carr    Male  Colorado   \n",
       "\n",
       "   Age dependants  family_status  income  _merge  \n",
       "0   64          3        married  290220    both  \n",
       "1   64          3        married  290220    both  \n",
       "2   64          3        married  290220    both  \n",
       "3   64          3        married  290220    both  \n",
       "4   64          3        married  290220    both  \n",
       "\n",
       "[5 rows x 30 columns]"
      ]
     },
     "execution_count": 8,
     "metadata": {},
     "output_type": "execute_result"
    }
   ],
   "source": [
    "df_ords_prods_big.head()"
   ]
  },
  {
   "cell_type": "code",
   "execution_count": 9,
   "metadata": {},
   "outputs": [],
   "source": [
    "df_ords_prods_big.loc[df_ords_prods_big[\"State\"].isin(west_states), 'region'] = 'West' # Assign region"
   ]
  },
  {
   "cell_type": "code",
   "execution_count": 10,
   "metadata": {},
   "outputs": [],
   "source": [
    "#Midwest"
   ]
  },
  {
   "cell_type": "code",
   "execution_count": 11,
   "metadata": {},
   "outputs": [],
   "source": [
    "# Define Midwest states\n",
    "mid_west_states = ['Wisconsin', 'Michigan', 'Illinois', 'Indiana', 'Ohio', 'North Dakota', 'South Dakota', 'Nebraska', 'Kansas', 'Minnesota', 'Iowa', 'Missouri']"
   ]
  },
  {
   "cell_type": "code",
   "execution_count": 12,
   "metadata": {},
   "outputs": [],
   "source": [
    "df_ords_prods_big.loc[df_ords_prods_big['State'].isin(mid_west_states), 'region'] = 'Midwest' # Assign region"
   ]
  },
  {
   "cell_type": "code",
   "execution_count": 13,
   "metadata": {},
   "outputs": [],
   "source": [
    "# South"
   ]
  },
  {
   "cell_type": "code",
   "execution_count": 14,
   "metadata": {},
   "outputs": [],
   "source": [
    "# Define South states\n",
    "west_states = ['Delaware','Maryland','District of Columbia','Virginia','West Virginia','North Carolina','South Carolina','Georgia','Florida','Kentucky','Tennessee','Mississippi','Alabama','Oklahoma','Texas','Arkansas','Louisiana']"
   ]
  },
  {
   "cell_type": "code",
   "execution_count": 15,
   "metadata": {},
   "outputs": [],
   "source": [
    "df_ords_prods_big.loc[df_ords_prods_big['State'].isin(west_states), 'region'] = 'South' # Assign region"
   ]
  },
  {
   "cell_type": "code",
   "execution_count": 16,
   "metadata": {},
   "outputs": [],
   "source": [
    "# Northeast#"
   ]
  },
  {
   "cell_type": "code",
   "execution_count": 17,
   "metadata": {},
   "outputs": [],
   "source": [
    "# Define Northeast states\n",
    "northeast_states = ['Maine','New Hampshire','Vermont','Massachusetts','Rhode Island','Connecticut','New York','Pennsylvania','New Jersey']"
   ]
  },
  {
   "cell_type": "code",
   "execution_count": 18,
   "metadata": {},
   "outputs": [],
   "source": [
    "df_ords_prods_big.loc[df_ords_prods_big['State'].isin(northeast_states), 'region'] = 'Northeast' # Assign region"
   ]
  },
  {
   "cell_type": "code",
   "execution_count": 19,
   "metadata": {},
   "outputs": [
    {
     "data": {
      "text/plain": [
       "region\n",
       "South        10801610\n",
       "West          8300445\n",
       "Midwest       7603810\n",
       "Northeast     5728347\n",
       "Name: count, dtype: int64"
      ]
     },
     "execution_count": 19,
     "metadata": {},
     "output_type": "execute_result"
    }
   ],
   "source": [
    "# User count by region\n",
    "df_ords_prods_big['region'].value_counts(dropna = False)"
   ]
  },
  {
   "cell_type": "code",
   "execution_count": 20,
   "metadata": {},
   "outputs": [
    {
     "data": {
      "text/plain": [
       "['product_id',\n",
       " 'product_name',\n",
       " 'aisle_id',\n",
       " 'department_id',\n",
       " 'prices',\n",
       " 'order_id',\n",
       " 'user_id',\n",
       " 'eval_set',\n",
       " 'order_number',\n",
       " 'order_dow',\n",
       " 'order_hour_of_day',\n",
       " 'days_since_prior_order',\n",
       " 'add_to_cart_order',\n",
       " 'reordered',\n",
       " 'merge_indicator',\n",
       " 'max_order',\n",
       " 'loyalty_flag',\n",
       " 'average_spend',\n",
       " 'spender_flag',\n",
       " 'Customer_frequency',\n",
       " 'frequency_flag',\n",
       " 'First Name',\n",
       " 'Surnam',\n",
       " 'Gender',\n",
       " 'State',\n",
       " 'Age',\n",
       " 'dependants',\n",
       " 'family_status',\n",
       " 'income',\n",
       " '_merge',\n",
       " 'region']"
      ]
     },
     "execution_count": 20,
     "metadata": {},
     "output_type": "execute_result"
    }
   ],
   "source": [
    "df_ords_prods_big.columns.tolist()"
   ]
  },
  {
   "cell_type": "code",
   "execution_count": 21,
   "metadata": {},
   "outputs": [],
   "source": [
    "# Pivot spending_flag base on region\n",
    "# spend_by_region = pd.crosstab(df_ords_prods_big['region'], df_ords_prods_big['spender_flag'], dropna = False).sort_values(by = 'HIgh_spender', ascending = False)"
   ]
  },
  {
   "cell_type": "code",
   "execution_count": 22,
   "metadata": {},
   "outputs": [],
   "source": [
    "spend_by_region = pd.crosstab(df_ords_prods_big['region'], df_ords_prods_big['spender_flag'], dropna=False).sort_values(by = 'Low_spender', ascending = False)\n"
   ]
  },
  {
   "cell_type": "code",
   "execution_count": 23,
   "metadata": {},
   "outputs": [
    {
     "data": {
      "text/html": [
       "<div>\n",
       "<style scoped>\n",
       "    .dataframe tbody tr th:only-of-type {\n",
       "        vertical-align: middle;\n",
       "    }\n",
       "\n",
       "    .dataframe tbody tr th {\n",
       "        vertical-align: top;\n",
       "    }\n",
       "\n",
       "    .dataframe thead th {\n",
       "        text-align: right;\n",
       "    }\n",
       "</style>\n",
       "<table border=\"1\" class=\"dataframe\">\n",
       "  <thead>\n",
       "    <tr style=\"text-align: right;\">\n",
       "      <th>spender_flag</th>\n",
       "      <th>High_spender</th>\n",
       "      <th>Low_spender</th>\n",
       "    </tr>\n",
       "    <tr>\n",
       "      <th>region</th>\n",
       "      <th></th>\n",
       "      <th></th>\n",
       "    </tr>\n",
       "  </thead>\n",
       "  <tbody>\n",
       "    <tr>\n",
       "      <th>South</th>\n",
       "      <td>60996</td>\n",
       "      <td>10740614</td>\n",
       "    </tr>\n",
       "    <tr>\n",
       "      <th>West</th>\n",
       "      <td>44376</td>\n",
       "      <td>8256069</td>\n",
       "    </tr>\n",
       "    <tr>\n",
       "      <th>Midwest</th>\n",
       "      <td>45951</td>\n",
       "      <td>7557859</td>\n",
       "    </tr>\n",
       "    <tr>\n",
       "      <th>Northeast</th>\n",
       "      <td>28785</td>\n",
       "      <td>5699562</td>\n",
       "    </tr>\n",
       "  </tbody>\n",
       "</table>\n",
       "</div>"
      ],
      "text/plain": [
       "spender_flag  High_spender  Low_spender\n",
       "region                                 \n",
       "South                60996     10740614\n",
       "West                 44376      8256069\n",
       "Midwest              45951      7557859\n",
       "Northeast            28785      5699562"
      ]
     },
     "execution_count": 23,
     "metadata": {},
     "output_type": "execute_result"
    }
   ],
   "source": [
    "spend_by_region"
   ]
  },
  {
   "cell_type": "code",
   "execution_count": 24,
   "metadata": {},
   "outputs": [
    {
     "data": {
      "text/plain": [
       "['product_id',\n",
       " 'product_name',\n",
       " 'aisle_id',\n",
       " 'department_id',\n",
       " 'prices',\n",
       " 'order_id',\n",
       " 'user_id',\n",
       " 'eval_set',\n",
       " 'order_number',\n",
       " 'order_dow',\n",
       " 'order_hour_of_day',\n",
       " 'days_since_prior_order',\n",
       " 'add_to_cart_order',\n",
       " 'reordered',\n",
       " 'merge_indicator',\n",
       " 'max_order',\n",
       " 'loyalty_flag',\n",
       " 'average_spend',\n",
       " 'spender_flag',\n",
       " 'Customer_frequency',\n",
       " 'frequency_flag',\n",
       " 'First Name',\n",
       " 'Surnam',\n",
       " 'Gender',\n",
       " 'State',\n",
       " 'Age',\n",
       " 'dependants',\n",
       " 'family_status',\n",
       " 'income',\n",
       " '_merge',\n",
       " 'region']"
      ]
     },
     "execution_count": 24,
     "metadata": {},
     "output_type": "execute_result"
    }
   ],
   "source": [
    "df_ords_prods_big.columns.tolist()"
   ]
  },
  {
   "cell_type": "code",
   "execution_count": 25,
   "metadata": {},
   "outputs": [],
   "source": [
    "# Product count by Region\n",
    "price_region = pd.crosstab(df_ords_prods_big['product_name'], df_ords_prods_big['region'], dropna=False,margins = True, margins_name = 'total').sort_values(by = 'total', ascending = False)\n"
   ]
  },
  {
   "cell_type": "code",
   "execution_count": 26,
   "metadata": {},
   "outputs": [
    {
     "data": {
      "text/html": [
       "<div>\n",
       "<style scoped>\n",
       "    .dataframe tbody tr th:only-of-type {\n",
       "        vertical-align: middle;\n",
       "    }\n",
       "\n",
       "    .dataframe tbody tr th {\n",
       "        vertical-align: top;\n",
       "    }\n",
       "\n",
       "    .dataframe thead th {\n",
       "        text-align: right;\n",
       "    }\n",
       "</style>\n",
       "<table border=\"1\" class=\"dataframe\">\n",
       "  <thead>\n",
       "    <tr style=\"text-align: right;\">\n",
       "      <th>region</th>\n",
       "      <th>Midwest</th>\n",
       "      <th>Northeast</th>\n",
       "      <th>South</th>\n",
       "      <th>West</th>\n",
       "      <th>total</th>\n",
       "    </tr>\n",
       "    <tr>\n",
       "      <th>product_name</th>\n",
       "      <th></th>\n",
       "      <th></th>\n",
       "      <th></th>\n",
       "      <th></th>\n",
       "      <th></th>\n",
       "    </tr>\n",
       "  </thead>\n",
       "  <tbody>\n",
       "    <tr>\n",
       "      <th>total</th>\n",
       "      <td>7603810</td>\n",
       "      <td>5728347</td>\n",
       "      <td>10801610</td>\n",
       "      <td>8300445</td>\n",
       "      <td>32434212.0</td>\n",
       "    </tr>\n",
       "    <tr>\n",
       "      <th>Banana</th>\n",
       "      <td>110327</td>\n",
       "      <td>83345</td>\n",
       "      <td>158336</td>\n",
       "      <td>120557</td>\n",
       "      <td>472565.0</td>\n",
       "    </tr>\n",
       "    <tr>\n",
       "      <th>Bag of Organic Bananas</th>\n",
       "      <td>89270</td>\n",
       "      <td>66885</td>\n",
       "      <td>125585</td>\n",
       "      <td>97710</td>\n",
       "      <td>379450.0</td>\n",
       "    </tr>\n",
       "    <tr>\n",
       "      <th>Organic Strawberries</th>\n",
       "      <td>61611</td>\n",
       "      <td>46903</td>\n",
       "      <td>88379</td>\n",
       "      <td>67790</td>\n",
       "      <td>264683.0</td>\n",
       "    </tr>\n",
       "    <tr>\n",
       "      <th>Organic Baby Spinach</th>\n",
       "      <td>56220</td>\n",
       "      <td>42174</td>\n",
       "      <td>81399</td>\n",
       "      <td>62128</td>\n",
       "      <td>241921.0</td>\n",
       "    </tr>\n",
       "    <tr>\n",
       "      <th>...</th>\n",
       "      <td>...</td>\n",
       "      <td>...</td>\n",
       "      <td>...</td>\n",
       "      <td>...</td>\n",
       "      <td>...</td>\n",
       "    </tr>\n",
       "    <tr>\n",
       "      <th>Peachtree Schnapps</th>\n",
       "      <td>0</td>\n",
       "      <td>0</td>\n",
       "      <td>1</td>\n",
       "      <td>0</td>\n",
       "      <td>1.0</td>\n",
       "    </tr>\n",
       "    <tr>\n",
       "      <th>Pappardelle Nests Pasta</th>\n",
       "      <td>1</td>\n",
       "      <td>0</td>\n",
       "      <td>0</td>\n",
       "      <td>0</td>\n",
       "      <td>1.0</td>\n",
       "    </tr>\n",
       "    <tr>\n",
       "      <th>Organic Veggie Ground</th>\n",
       "      <td>1</td>\n",
       "      <td>0</td>\n",
       "      <td>0</td>\n",
       "      <td>0</td>\n",
       "      <td>1.0</td>\n",
       "    </tr>\n",
       "    <tr>\n",
       "      <th>Cld/Flu Van Chrry</th>\n",
       "      <td>1</td>\n",
       "      <td>0</td>\n",
       "      <td>0</td>\n",
       "      <td>0</td>\n",
       "      <td>1.0</td>\n",
       "    </tr>\n",
       "    <tr>\n",
       "      <th>NaN</th>\n",
       "      <td>6225</td>\n",
       "      <td>5408</td>\n",
       "      <td>9310</td>\n",
       "      <td>7228</td>\n",
       "      <td>NaN</td>\n",
       "    </tr>\n",
       "  </tbody>\n",
       "</table>\n",
       "<p>49663 rows × 5 columns</p>\n",
       "</div>"
      ],
      "text/plain": [
       "region                   Midwest  Northeast     South     West       total\n",
       "product_name                                                              \n",
       "total                    7603810    5728347  10801610  8300445  32434212.0\n",
       "Banana                    110327      83345    158336   120557    472565.0\n",
       "Bag of Organic Bananas     89270      66885    125585    97710    379450.0\n",
       "Organic Strawberries       61611      46903     88379    67790    264683.0\n",
       "Organic Baby Spinach       56220      42174     81399    62128    241921.0\n",
       "...                          ...        ...       ...      ...         ...\n",
       "Peachtree Schnapps             0          0         1        0         1.0\n",
       "Pappardelle Nests Pasta        1          0         0        0         1.0\n",
       "Organic Veggie Ground          1          0         0        0         1.0\n",
       "Cld/Flu Van Chrry              1          0         0        0         1.0\n",
       "NaN                         6225       5408      9310     7228         NaN\n",
       "\n",
       "[49663 rows x 5 columns]"
      ]
     },
     "execution_count": 26,
     "metadata": {},
     "output_type": "execute_result"
    }
   ],
   "source": [
    "price_region"
   ]
  },
  {
   "cell_type": "code",
   "execution_count": null,
   "metadata": {},
   "outputs": [],
   "source": []
  },
  {
   "cell_type": "code",
   "execution_count": 27,
   "metadata": {},
   "outputs": [],
   "source": [
    "# 3 Low Activity customers"
   ]
  },
  {
   "cell_type": "code",
   "execution_count": 28,
   "metadata": {},
   "outputs": [],
   "source": [
    "# Define low_activity customers\n",
    "df_ords_prods_big.loc[df_ords_prods_big['order_number'] < 5, 'customer_activity'] = 'low_activity customers'\n",
    "\n",
    "# Define high_activity customers\n",
    "df_ords_prods_big.loc[df_ords_prods_big['order_number'] >= 5, 'customer_activity'] = 'high_activity customer'"
   ]
  },
  {
   "cell_type": "code",
   "execution_count": 29,
   "metadata": {},
   "outputs": [
    {
     "data": {
      "text/plain": [
       "customer_activity\n",
       "high_activity customer    24436791\n",
       "low_activity customers     7997421\n",
       "Name: count, dtype: int64"
      ]
     },
     "execution_count": 29,
     "metadata": {},
     "output_type": "execute_result"
    }
   ],
   "source": [
    "# User count base on activity level\n",
    "df_ords_prods_big['customer_activity'].value_counts(dropna= False)"
   ]
  },
  {
   "cell_type": "code",
   "execution_count": 30,
   "metadata": {},
   "outputs": [],
   "source": [
    "# 4 Customer profiling"
   ]
  },
  {
   "cell_type": "code",
   "execution_count": 31,
   "metadata": {},
   "outputs": [],
   "source": [
    "# Define low-income young adult group\n",
    "df_ords_prods_big.loc[(df_ords_prods_big['Age'] >= 18) & (df_ords_prods_big['Age'] <= 40)\n",
    "         & (df_ords_prods_big['income'] >= 25903) & (df_ords_prods_big['income'] <= 67124),\n",
    "\n",
    "         'customer_profile'] = 'low-income yound adult'"
   ]
  },
  {
   "cell_type": "code",
   "execution_count": 32,
   "metadata": {},
   "outputs": [],
   "source": [
    "# Define low-income mid age group\n",
    "df_ords_prods_big.loc[(df_ords_prods_big['Age'] > 40) & (df_ords_prods_big['Age'] <= 60)\n",
    "         & (df_ords_prods_big['income'] >= 25903) & (df_ords_prods_big['income'] <= 67124),\n",
    "\n",
    "         'customer_profile'] = 'low-income mid age'"
   ]
  },
  {
   "cell_type": "code",
   "execution_count": 33,
   "metadata": {},
   "outputs": [],
   "source": [
    "# Define low-income senior group\n",
    "df_ords_prods_big.loc[(df_ords_prods_big['Age'] > 60) &  (df_ords_prods_big['Age'] <= 81  )\n",
    "         & (df_ords_prods_big['income'] >= 25903) & (df_ords_prods_big['income'] <= 67124),\n",
    "\n",
    "         'customer_profile'] = 'low-ncome senior'"
   ]
  },
  {
   "cell_type": "code",
   "execution_count": 34,
   "metadata": {},
   "outputs": [],
   "source": [
    "# Define lower-middle-class young adult group\n",
    "df_ords_prods_big.loc[(df_ords_prods_big['Age'] >= 18) & (df_ords_prods_big['Age'] <= 40)\n",
    "         & (df_ords_prods_big['income'] > 67124) & (df_ords_prods_big['income'] <= 96663),\n",
    "\n",
    "         'customer_profile'] = 'lower-middle-class yound adult'"
   ]
  },
  {
   "cell_type": "code",
   "execution_count": 35,
   "metadata": {},
   "outputs": [],
   "source": [
    "# Define lower-middle-class mid age group\n",
    "df_ords_prods_big.loc[(df_ords_prods_big['Age'] > 40) & (df_ords_prods_big['Age'] <= 60)\n",
    "         & (df_ords_prods_big['income'] > 67124 ) & (df_ords_prods_big['income'] <= 96663 ),\n",
    "\n",
    "         'customer_profile'] = 'lower-middle-class mid age'"
   ]
  },
  {
   "cell_type": "code",
   "execution_count": 36,
   "metadata": {},
   "outputs": [],
   "source": [
    "# Define lower-middle-class senior group\n",
    "df_ords_prods_big.loc[(df_ords_prods_big['Age'] > 60) &  (df_ords_prods_big['Age'] <= 81  )\n",
    "         & (df_ords_prods_big['income'] > 67124 ) & (df_ords_prods_big['income'] <= 96663 ),\n",
    "\n",
    "         'customer_profile'] = 'lower-middle-class senior'"
   ]
  },
  {
   "cell_type": "code",
   "execution_count": 37,
   "metadata": {},
   "outputs": [],
   "source": [
    "# Define upper-middle-class yound adult group\n",
    "df_ords_prods_big.loc[(df_ords_prods_big['Age'] >= 18) & (df_ords_prods_big['Age'] <= 40)\n",
    "         & (df_ords_prods_big['income'] > 96663 ) & (df_ords_prods_big['income'] <= 127961 ),\n",
    "\n",
    "         'customer_profile'] = 'upper-middle-class yound adult'"
   ]
  },
  {
   "cell_type": "code",
   "execution_count": 38,
   "metadata": {},
   "outputs": [],
   "source": [
    "# Define upper-middle-class mid age group\n",
    "df_ords_prods_big.loc[(df_ords_prods_big['Age'] > 40) & (df_ords_prods_big['Age'] <= 60)\n",
    "         & (df_ords_prods_big['income'] > 96663 ) & (df_ords_prods_big['income'] <= 127961 ),\n",
    "\n",
    "         'customer_profile'] = 'upper-middle-class mid age'"
   ]
  },
  {
   "cell_type": "code",
   "execution_count": 39,
   "metadata": {},
   "outputs": [],
   "source": [
    "# Define upper-middle-class senior group\n",
    "df_ords_prods_big.loc[(df_ords_prods_big['Age'] > 60) &  (df_ords_prods_big['Age'] <= 81  )\n",
    "         & (df_ords_prods_big['income'] > 96663 ) & (df_ords_prods_big['income'] <= 127961 ),\n",
    "\n",
    "         'customer_profile'] = 'upper-middle-class senior'"
   ]
  },
  {
   "cell_type": "code",
   "execution_count": 40,
   "metadata": {},
   "outputs": [],
   "source": [
    "# Define upper-class young adult group\n",
    "df_ords_prods_big.loc[(df_ords_prods_big['Age'] >= 18) & (df_ords_prods_big['Age'] <= 40)\n",
    "         & (df_ords_prods_big['income'] > 127961 ) & (df_ords_prods_big['income'] <= 593901 ),\n",
    "\n",
    "         'customer_profile'] = 'upper-class young adult'"
   ]
  },
  {
   "cell_type": "code",
   "execution_count": 41,
   "metadata": {},
   "outputs": [],
   "source": [
    "# Define upper-class mid age group\n",
    "df_ords_prods_big.loc[(df_ords_prods_big['Age'] > 40) & (df_ords_prods_big['Age'] <= 60)\n",
    "         & (df_ords_prods_big['income'] > 127961 ) & (df_ords_prods_big['income'] <= 593901 ),\n",
    "\n",
    "         'customer_profile'] = 'upper-class mid age'"
   ]
  },
  {
   "cell_type": "code",
   "execution_count": 42,
   "metadata": {},
   "outputs": [],
   "source": [
    "# Define upper-class senior age group\n",
    "\n",
    "df_ords_prods_big.loc[(df_ords_prods_big['Age'] > 60) &  (df_ords_prods_big['Age'] <= 81  )\n",
    "         & (df_ords_prods_big['income'] > 127961 ) & (df_ords_prods_big['income'] <= 593901 ),\n",
    "\n",
    "         'customer_profile'] = 'upper-class senior'"
   ]
  },
  {
   "cell_type": "code",
   "execution_count": 43,
   "metadata": {},
   "outputs": [
    {
     "data": {
      "text/html": [
       "<div>\n",
       "<style scoped>\n",
       "    .dataframe tbody tr th:only-of-type {\n",
       "        vertical-align: middle;\n",
       "    }\n",
       "\n",
       "    .dataframe tbody tr th {\n",
       "        vertical-align: top;\n",
       "    }\n",
       "\n",
       "    .dataframe thead th {\n",
       "        text-align: right;\n",
       "    }\n",
       "</style>\n",
       "<table border=\"1\" class=\"dataframe\">\n",
       "  <thead>\n",
       "    <tr style=\"text-align: right;\">\n",
       "      <th>family_status</th>\n",
       "      <th>divorced/widowed</th>\n",
       "      <th>living with parents and siblings</th>\n",
       "      <th>married</th>\n",
       "      <th>single</th>\n",
       "    </tr>\n",
       "    <tr>\n",
       "      <th>customer_profile</th>\n",
       "      <th></th>\n",
       "      <th></th>\n",
       "      <th></th>\n",
       "      <th></th>\n",
       "    </tr>\n",
       "  </thead>\n",
       "  <tbody>\n",
       "    <tr>\n",
       "      <th>low-income mid age</th>\n",
       "      <td>14355</td>\n",
       "      <td>0</td>\n",
       "      <td>1021539</td>\n",
       "      <td>321814</td>\n",
       "    </tr>\n",
       "    <tr>\n",
       "      <th>low-income yound adult</th>\n",
       "      <td>0</td>\n",
       "      <td>697131</td>\n",
       "      <td>3348254</td>\n",
       "      <td>1357215</td>\n",
       "    </tr>\n",
       "    <tr>\n",
       "      <th>low-ncome senior</th>\n",
       "      <td>339712</td>\n",
       "      <td>0</td>\n",
       "      <td>1042866</td>\n",
       "      <td>0</td>\n",
       "    </tr>\n",
       "    <tr>\n",
       "      <th>lower-middle-class mid age</th>\n",
       "      <td>14302</td>\n",
       "      <td>0</td>\n",
       "      <td>986551</td>\n",
       "      <td>306079</td>\n",
       "    </tr>\n",
       "    <tr>\n",
       "      <th>lower-middle-class senior</th>\n",
       "      <td>360822</td>\n",
       "      <td>0</td>\n",
       "      <td>1061019</td>\n",
       "      <td>0</td>\n",
       "    </tr>\n",
       "    <tr>\n",
       "      <th>lower-middle-class yound adult</th>\n",
       "      <td>0</td>\n",
       "      <td>735644</td>\n",
       "      <td>3306209</td>\n",
       "      <td>1323094</td>\n",
       "    </tr>\n",
       "    <tr>\n",
       "      <th>upper-class mid age</th>\n",
       "      <td>46209</td>\n",
       "      <td>0</td>\n",
       "      <td>2910660</td>\n",
       "      <td>944193</td>\n",
       "    </tr>\n",
       "    <tr>\n",
       "      <th>upper-class senior</th>\n",
       "      <td>1012196</td>\n",
       "      <td>0</td>\n",
       "      <td>3051212</td>\n",
       "      <td>0</td>\n",
       "    </tr>\n",
       "    <tr>\n",
       "      <th>upper-class young adult</th>\n",
       "      <td>0</td>\n",
       "      <td>17951</td>\n",
       "      <td>85328</td>\n",
       "      <td>30129</td>\n",
       "    </tr>\n",
       "    <tr>\n",
       "      <th>upper-middle-class mid age</th>\n",
       "      <td>42417</td>\n",
       "      <td>0</td>\n",
       "      <td>2703810</td>\n",
       "      <td>849494</td>\n",
       "    </tr>\n",
       "    <tr>\n",
       "      <th>upper-middle-class senior</th>\n",
       "      <td>944415</td>\n",
       "      <td>0</td>\n",
       "      <td>2780031</td>\n",
       "      <td>0</td>\n",
       "    </tr>\n",
       "    <tr>\n",
       "      <th>upper-middle-class yound adult</th>\n",
       "      <td>0</td>\n",
       "      <td>101376</td>\n",
       "      <td>479434</td>\n",
       "      <td>198751</td>\n",
       "    </tr>\n",
       "  </tbody>\n",
       "</table>\n",
       "</div>"
      ],
      "text/plain": [
       "family_status                   divorced/widowed  \\\n",
       "customer_profile                                   \n",
       "low-income mid age                         14355   \n",
       "low-income yound adult                         0   \n",
       "low-ncome senior                          339712   \n",
       "lower-middle-class mid age                 14302   \n",
       "lower-middle-class senior                 360822   \n",
       "lower-middle-class yound adult                 0   \n",
       "upper-class mid age                        46209   \n",
       "upper-class senior                       1012196   \n",
       "upper-class young adult                        0   \n",
       "upper-middle-class mid age                 42417   \n",
       "upper-middle-class senior                 944415   \n",
       "upper-middle-class yound adult                 0   \n",
       "\n",
       "family_status                   living with parents and siblings  married  \\\n",
       "customer_profile                                                            \n",
       "low-income mid age                                             0  1021539   \n",
       "low-income yound adult                                    697131  3348254   \n",
       "low-ncome senior                                               0  1042866   \n",
       "lower-middle-class mid age                                     0   986551   \n",
       "lower-middle-class senior                                      0  1061019   \n",
       "lower-middle-class yound adult                            735644  3306209   \n",
       "upper-class mid age                                            0  2910660   \n",
       "upper-class senior                                             0  3051212   \n",
       "upper-class young adult                                    17951    85328   \n",
       "upper-middle-class mid age                                     0  2703810   \n",
       "upper-middle-class senior                                      0  2780031   \n",
       "upper-middle-class yound adult                            101376   479434   \n",
       "\n",
       "family_status                    single  \n",
       "customer_profile                         \n",
       "low-income mid age               321814  \n",
       "low-income yound adult          1357215  \n",
       "low-ncome senior                      0  \n",
       "lower-middle-class mid age       306079  \n",
       "lower-middle-class senior             0  \n",
       "lower-middle-class yound adult  1323094  \n",
       "upper-class mid age              944193  \n",
       "upper-class senior                    0  \n",
       "upper-class young adult           30129  \n",
       "upper-middle-class mid age       849494  \n",
       "upper-middle-class senior             0  \n",
       "upper-middle-class yound adult   198751  "
      ]
     },
     "execution_count": 43,
     "metadata": {},
     "output_type": "execute_result"
    }
   ],
   "source": [
    "# Familiy status count by customer profile\n",
    "pro_fam = pd.crosstab(df_ords_prods_big['customer_profile'], df_ords_prods_big['family_status'], dropna = False)\n",
    "pro_fam"
   ]
  },
  {
   "cell_type": "code",
   "execution_count": 44,
   "metadata": {},
   "outputs": [
    {
     "data": {
      "text/html": [
       "<div>\n",
       "<style scoped>\n",
       "    .dataframe tbody tr th:only-of-type {\n",
       "        vertical-align: middle;\n",
       "    }\n",
       "\n",
       "    .dataframe tbody tr th {\n",
       "        vertical-align: top;\n",
       "    }\n",
       "\n",
       "    .dataframe thead th {\n",
       "        text-align: right;\n",
       "    }\n",
       "</style>\n",
       "<table border=\"1\" class=\"dataframe\">\n",
       "  <thead>\n",
       "    <tr style=\"text-align: right;\">\n",
       "      <th>dependants</th>\n",
       "      <th>0</th>\n",
       "      <th>1</th>\n",
       "      <th>2</th>\n",
       "      <th>3</th>\n",
       "    </tr>\n",
       "    <tr>\n",
       "      <th>customer_profile</th>\n",
       "      <th></th>\n",
       "      <th></th>\n",
       "      <th></th>\n",
       "      <th></th>\n",
       "    </tr>\n",
       "  </thead>\n",
       "  <tbody>\n",
       "    <tr>\n",
       "      <th>low-income mid age</th>\n",
       "      <td>336169</td>\n",
       "      <td>341704</td>\n",
       "      <td>327753</td>\n",
       "      <td>352082</td>\n",
       "    </tr>\n",
       "    <tr>\n",
       "      <th>low-income yound adult</th>\n",
       "      <td>1357215</td>\n",
       "      <td>1339435</td>\n",
       "      <td>1352872</td>\n",
       "      <td>1353078</td>\n",
       "    </tr>\n",
       "    <tr>\n",
       "      <th>low-ncome senior</th>\n",
       "      <td>339712</td>\n",
       "      <td>349712</td>\n",
       "      <td>351259</td>\n",
       "      <td>341895</td>\n",
       "    </tr>\n",
       "    <tr>\n",
       "      <th>lower-middle-class mid age</th>\n",
       "      <td>320381</td>\n",
       "      <td>337432</td>\n",
       "      <td>315267</td>\n",
       "      <td>333852</td>\n",
       "    </tr>\n",
       "    <tr>\n",
       "      <th>lower-middle-class senior</th>\n",
       "      <td>360822</td>\n",
       "      <td>342697</td>\n",
       "      <td>372558</td>\n",
       "      <td>345764</td>\n",
       "    </tr>\n",
       "    <tr>\n",
       "      <th>lower-middle-class yound adult</th>\n",
       "      <td>1323094</td>\n",
       "      <td>1354620</td>\n",
       "      <td>1339699</td>\n",
       "      <td>1347534</td>\n",
       "    </tr>\n",
       "    <tr>\n",
       "      <th>upper-class mid age</th>\n",
       "      <td>990402</td>\n",
       "      <td>980238</td>\n",
       "      <td>945976</td>\n",
       "      <td>984446</td>\n",
       "    </tr>\n",
       "    <tr>\n",
       "      <th>upper-class senior</th>\n",
       "      <td>1012196</td>\n",
       "      <td>992509</td>\n",
       "      <td>1039262</td>\n",
       "      <td>1019441</td>\n",
       "    </tr>\n",
       "    <tr>\n",
       "      <th>upper-class young adult</th>\n",
       "      <td>30129</td>\n",
       "      <td>33284</td>\n",
       "      <td>36253</td>\n",
       "      <td>33742</td>\n",
       "    </tr>\n",
       "    <tr>\n",
       "      <th>upper-middle-class mid age</th>\n",
       "      <td>891911</td>\n",
       "      <td>915112</td>\n",
       "      <td>886120</td>\n",
       "      <td>902578</td>\n",
       "    </tr>\n",
       "    <tr>\n",
       "      <th>upper-middle-class senior</th>\n",
       "      <td>944415</td>\n",
       "      <td>910432</td>\n",
       "      <td>933534</td>\n",
       "      <td>936065</td>\n",
       "    </tr>\n",
       "    <tr>\n",
       "      <th>upper-middle-class yound adult</th>\n",
       "      <td>198751</td>\n",
       "      <td>191135</td>\n",
       "      <td>197834</td>\n",
       "      <td>191841</td>\n",
       "    </tr>\n",
       "  </tbody>\n",
       "</table>\n",
       "</div>"
      ],
      "text/plain": [
       "dependants                            0        1        2        3\n",
       "customer_profile                                                  \n",
       "low-income mid age               336169   341704   327753   352082\n",
       "low-income yound adult          1357215  1339435  1352872  1353078\n",
       "low-ncome senior                 339712   349712   351259   341895\n",
       "lower-middle-class mid age       320381   337432   315267   333852\n",
       "lower-middle-class senior        360822   342697   372558   345764\n",
       "lower-middle-class yound adult  1323094  1354620  1339699  1347534\n",
       "upper-class mid age              990402   980238   945976   984446\n",
       "upper-class senior              1012196   992509  1039262  1019441\n",
       "upper-class young adult           30129    33284    36253    33742\n",
       "upper-middle-class mid age       891911   915112   886120   902578\n",
       "upper-middle-class senior        944415   910432   933534   936065\n",
       "upper-middle-class yound adult   198751   191135   197834   191841"
      ]
     },
     "execution_count": 44,
     "metadata": {},
     "output_type": "execute_result"
    }
   ],
   "source": [
    "# Number of dependants by customer profile\n",
    "cust_dependants = pd.crosstab(df_ords_prods_big['customer_profile'], df_ords_prods_big['dependants'], dropna = False)\n",
    "cust_dependants"
   ]
  },
  {
   "cell_type": "code",
   "execution_count": 45,
   "metadata": {},
   "outputs": [],
   "source": [
    "# 5 Distribution of Profiling"
   ]
  },
  {
   "cell_type": "code",
   "execution_count": 46,
   "metadata": {},
   "outputs": [
    {
     "data": {
      "text/plain": [
       "customer_profile\n",
       "low-income yound adult            5402600\n",
       "lower-middle-class yound adult    5364947\n",
       "upper-class senior                4063408\n",
       "upper-class mid age               3901062\n",
       "upper-middle-class senior         3724446\n",
       "upper-middle-class mid age        3595721\n",
       "lower-middle-class senior         1421841\n",
       "low-ncome senior                  1382578\n",
       "low-income mid age                1357708\n",
       "lower-middle-class mid age        1306932\n",
       "upper-middle-class yound adult     779561\n",
       "upper-class young adult            133408\n",
       "Name: count, dtype: int64"
      ]
     },
     "execution_count": 46,
     "metadata": {},
     "output_type": "execute_result"
    }
   ],
   "source": [
    "# Distribution of customer profile\n",
    "df_ords_prods_big['customer_profile'].value_counts()"
   ]
  },
  {
   "cell_type": "code",
   "execution_count": 47,
   "metadata": {},
   "outputs": [
    {
     "data": {
      "text/plain": [
       "Text(0.5, 0, 'User Count')"
      ]
     },
     "execution_count": 47,
     "metadata": {},
     "output_type": "execute_result"
    },
    {
     "data": {
      "image/png": "[encoded data removed]",
      "text/plain": [
       "<Figure size 640x480 with 1 Axes>"
      ]
     },
     "metadata": {},
     "output_type": "display_data"
    }
   ],
   "source": [
    "# Visualize the distribution of customer profile\n",
    "df_ords_prods_big['customer_profile'].value_counts(dropna= False).sort_values(ascending= True).plot.barh(color='#4f6784')\n",
    "plt.ylabel(' ') # Eliminate y lable\n",
    "plt.xlabel('User Count')"
   ]
  },
  {
   "cell_type": "code",
   "execution_count": 48,
   "metadata": {},
   "outputs": [],
   "source": [
    "#6 Statics on Customer-profile for order frequency and expenditures"
   ]
  },
  {
   "cell_type": "code",
   "execution_count": 49,
   "metadata": {},
   "outputs": [
    {
     "data": {
      "text/html": [
       "<div>\n",
       "<style scoped>\n",
       "    .dataframe tbody tr th:only-of-type {\n",
       "        vertical-align: middle;\n",
       "    }\n",
       "\n",
       "    .dataframe tbody tr th {\n",
       "        vertical-align: top;\n",
       "    }\n",
       "\n",
       "    .dataframe thead tr th {\n",
       "        text-align: left;\n",
       "    }\n",
       "\n",
       "    .dataframe thead tr:last-of-type th {\n",
       "        text-align: right;\n",
       "    }\n",
       "</style>\n",
       "<table border=\"1\" class=\"dataframe\">\n",
       "  <thead>\n",
       "    <tr>\n",
       "      <th></th>\n",
       "      <th colspan=\"3\" halign=\"left\">days_since_prior_order</th>\n",
       "    </tr>\n",
       "    <tr>\n",
       "      <th></th>\n",
       "      <th>mean</th>\n",
       "      <th>min</th>\n",
       "      <th>max</th>\n",
       "    </tr>\n",
       "    <tr>\n",
       "      <th>customer_profile</th>\n",
       "      <th></th>\n",
       "      <th></th>\n",
       "      <th></th>\n",
       "    </tr>\n",
       "  </thead>\n",
       "  <tbody>\n",
       "    <tr>\n",
       "      <th>low-income mid age</th>\n",
       "      <td>11.464974</td>\n",
       "      <td>0.0</td>\n",
       "      <td>30.0</td>\n",
       "    </tr>\n",
       "    <tr>\n",
       "      <th>low-income yound adult</th>\n",
       "      <td>11.211007</td>\n",
       "      <td>0.0</td>\n",
       "      <td>30.0</td>\n",
       "    </tr>\n",
       "    <tr>\n",
       "      <th>low-ncome senior</th>\n",
       "      <td>11.621253</td>\n",
       "      <td>0.0</td>\n",
       "      <td>30.0</td>\n",
       "    </tr>\n",
       "    <tr>\n",
       "      <th>lower-middle-class mid age</th>\n",
       "      <td>11.078025</td>\n",
       "      <td>0.0</td>\n",
       "      <td>30.0</td>\n",
       "    </tr>\n",
       "    <tr>\n",
       "      <th>lower-middle-class senior</th>\n",
       "      <td>10.931313</td>\n",
       "      <td>0.0</td>\n",
       "      <td>30.0</td>\n",
       "    </tr>\n",
       "    <tr>\n",
       "      <th>lower-middle-class yound adult</th>\n",
       "      <td>10.996403</td>\n",
       "      <td>0.0</td>\n",
       "      <td>30.0</td>\n",
       "    </tr>\n",
       "    <tr>\n",
       "      <th>upper-class mid age</th>\n",
       "      <td>11.101388</td>\n",
       "      <td>0.0</td>\n",
       "      <td>30.0</td>\n",
       "    </tr>\n",
       "    <tr>\n",
       "      <th>upper-class senior</th>\n",
       "      <td>10.972695</td>\n",
       "      <td>0.0</td>\n",
       "      <td>30.0</td>\n",
       "    </tr>\n",
       "    <tr>\n",
       "      <th>upper-class young adult</th>\n",
       "      <td>10.356933</td>\n",
       "      <td>0.0</td>\n",
       "      <td>30.0</td>\n",
       "    </tr>\n",
       "    <tr>\n",
       "      <th>upper-middle-class mid age</th>\n",
       "      <td>11.024219</td>\n",
       "      <td>0.0</td>\n",
       "      <td>30.0</td>\n",
       "    </tr>\n",
       "    <tr>\n",
       "      <th>upper-middle-class senior</th>\n",
       "      <td>11.065481</td>\n",
       "      <td>0.0</td>\n",
       "      <td>30.0</td>\n",
       "    </tr>\n",
       "    <tr>\n",
       "      <th>upper-middle-class yound adult</th>\n",
       "      <td>11.321622</td>\n",
       "      <td>0.0</td>\n",
       "      <td>30.0</td>\n",
       "    </tr>\n",
       "  </tbody>\n",
       "</table>\n",
       "</div>"
      ],
      "text/plain": [
       "                               days_since_prior_order           \n",
       "                                                 mean  min   max\n",
       "customer_profile                                                \n",
       "low-income mid age                          11.464974  0.0  30.0\n",
       "low-income yound adult                      11.211007  0.0  30.0\n",
       "low-ncome senior                            11.621253  0.0  30.0\n",
       "lower-middle-class mid age                  11.078025  0.0  30.0\n",
       "lower-middle-class senior                   10.931313  0.0  30.0\n",
       "lower-middle-class yound adult              10.996403  0.0  30.0\n",
       "upper-class mid age                         11.101388  0.0  30.0\n",
       "upper-class senior                          10.972695  0.0  30.0\n",
       "upper-class young adult                     10.356933  0.0  30.0\n",
       "upper-middle-class mid age                  11.024219  0.0  30.0\n",
       "upper-middle-class senior                   11.065481  0.0  30.0\n",
       "upper-middle-class yound adult              11.321622  0.0  30.0"
      ]
     },
     "execution_count": 49,
     "metadata": {},
     "output_type": "execute_result"
    }
   ],
   "source": [
    "# Order frequency by customer profile\n",
    "freqt_customer_profile = df_ords_prods_big.groupby('customer_profile').agg({'days_since_prior_order': ['mean','min','max']})\n",
    "freqt_customer_profile"
   ]
  },
  {
   "cell_type": "code",
   "execution_count": 50,
   "metadata": {},
   "outputs": [],
   "source": [
    "# 7 Customer Analysis by region"
   ]
  },
  {
   "cell_type": "code",
   "execution_count": 51,
   "metadata": {},
   "outputs": [],
   "source": [
    "# Creat subset for the South region\n",
    "south_customer = df_ords_prods_big[df_ords_prods_big['region']== 'South']"
   ]
  },
  {
   "cell_type": "code",
   "execution_count": 52,
   "metadata": {},
   "outputs": [
    {
     "data": {
      "text/plain": [
       "10801610"
      ]
     },
     "execution_count": 52,
     "metadata": {},
     "output_type": "execute_result"
    }
   ],
   "source": [
    "# User count for the South region\n",
    "south_customer['user_id'].value_counts().sum()"
   ]
  },
  {
   "cell_type": "code",
   "execution_count": 53,
   "metadata": {},
   "outputs": [
    {
     "data": {
      "text/plain": [
       "customer_profile\n",
       "lower-middle-class yound adult    1820079\n",
       "low-income yound adult            1817228\n",
       "upper-class senior                1350169\n",
       "upper-class mid age               1265882\n",
       "upper-middle-class senior         1224998\n",
       "upper-middle-class mid age        1157377\n",
       "lower-middle-class senior          486259\n",
       "low-ncome senior                   459817\n",
       "low-income mid age                 452311\n",
       "lower-middle-class mid age         451286\n",
       "upper-middle-class yound adult     266244\n",
       "upper-class young adult             49960\n",
       "Name: count, dtype: int64"
      ]
     },
     "execution_count": 53,
     "metadata": {},
     "output_type": "execute_result"
    }
   ],
   "source": [
    "# User count by customer profile\n",
    "south_customer['customer_profile'].value_counts()"
   ]
  },
  {
   "cell_type": "code",
   "execution_count": 54,
   "metadata": {},
   "outputs": [
    {
     "data": {
      "text/plain": [
       "family_status\n",
       "married                             7567385\n",
       "single                              1782567\n",
       "divorced/widowed                     921608\n",
       "living with parents and siblings     530050\n",
       "Name: count, dtype: int64"
      ]
     },
     "execution_count": 54,
     "metadata": {},
     "output_type": "execute_result"
    }
   ],
   "source": [
    "# Family status count\n",
    "south_customer['family_status'].value_counts()"
   ]
  },
  {
   "cell_type": "code",
   "execution_count": 55,
   "metadata": {},
   "outputs": [
    {
     "data": {
      "text/plain": [
       "dependants\n",
       "2    2726248\n",
       "3    2709010\n",
       "0    2704175\n",
       "1    2662177\n",
       "Name: count, dtype: int64"
      ]
     },
     "execution_count": 55,
     "metadata": {},
     "output_type": "execute_result"
    }
   ],
   "source": [
    "# Number of dependant count\n",
    "south_customer['dependants'].value_counts()"
   ]
  },
  {
   "cell_type": "code",
   "execution_count": 56,
   "metadata": {},
   "outputs": [
    {
     "data": {
      "text/plain": [
       "108733754.60000013"
      ]
     },
     "execution_count": 56,
     "metadata": {},
     "output_type": "execute_result"
    }
   ],
   "source": [
    "# Total spending of the South customers\n",
    "south_customer['prices'].sum()"
   ]
  },
  {
   "cell_type": "code",
   "execution_count": 57,
   "metadata": {},
   "outputs": [
    {
     "data": {
      "text/plain": [
       "count    1.080007e+07\n",
       "mean     1.006788e+01\n",
       "std      4.762598e+02\n",
       "min      1.000000e+00\n",
       "25%      4.200000e+00\n",
       "50%      7.400000e+00\n",
       "75%      1.130000e+01\n",
       "max      9.999900e+04\n",
       "Name: prices, dtype: float64"
      ]
     },
     "execution_count": 57,
     "metadata": {},
     "output_type": "execute_result"
    }
   ],
   "source": [
    "# Customer spending statistics\n",
    "south_customer['prices'].describe()"
   ]
  },
  {
   "cell_type": "code",
   "execution_count": 58,
   "metadata": {},
   "outputs": [
    {
     "data": {
      "text/plain": [
       "spender_flag\n",
       "Low_spender     10740614\n",
       "High_spender       60996\n",
       "Name: count, dtype: int64"
      ]
     },
     "execution_count": 58,
     "metadata": {},
     "output_type": "execute_result"
    }
   ],
   "source": [
    "# Spending habbits outlook\n",
    "south_customer['spender_flag'].value_counts(dropna= False)"
   ]
  },
  {
   "cell_type": "code",
   "execution_count": 59,
   "metadata": {},
   "outputs": [
    {
     "data": {
      "text/plain": [
       "product_name\n",
       "Banana                    158336\n",
       "Bag of Organic Bananas    125585\n",
       "Organic Strawberries       88379\n",
       "Organic Baby Spinach       81399\n",
       "Organic Hass Avocado       69833\n",
       "Organic Avocado            59015\n",
       "Large Lemon                50257\n",
       "Strawberries               47818\n",
       "Limes                      46613\n",
       "Organic Whole Milk         46403\n",
       "Name: count, dtype: int64"
      ]
     },
     "execution_count": 59,
     "metadata": {},
     "output_type": "execute_result"
    }
   ],
   "source": [
    "# Top 10 goods by order\n",
    "south_customer['product_name'].value_counts(dropna =  False ).sort_values(ascending = False).head(10)"
   ]
  },
  {
   "cell_type": "code",
   "execution_count": 60,
   "metadata": {},
   "outputs": [
    {
     "data": {
      "text/plain": [
       "department_id\n",
       "4     3160551\n",
       "16    1801966\n",
       "19     957346\n",
       "7      898957\n",
       "1      748463\n",
       "Name: count, dtype: int64"
      ]
     },
     "execution_count": 60,
     "metadata": {},
     "output_type": "execute_result"
    }
   ],
   "source": [
    "# The most counts of order by departments\n",
    "south_customer['department_id'].value_counts(dropna= False).sort_values(ascending = False).head(5)"
   ]
  },
  {
   "cell_type": "code",
   "execution_count": 61,
   "metadata": {},
   "outputs": [],
   "source": [
    "# 8 Visulization\n"
   ]
  },
  {
   "cell_type": "code",
   "execution_count": 62,
   "metadata": {},
   "outputs": [
    {
     "data": {
      "text/plain": [
       "Text(0.5, 1.0, 'Histogram of Order Day of Week')"
      ]
     },
     "execution_count": 62,
     "metadata": {},
     "output_type": "execute_result"
    },
    {
     "data": {
      "image/png": "[encoded data removed]",
      "text/plain": [
       "<Figure size 640x480 with 1 Axes>"
      ]
     },
     "metadata": {},
     "output_type": "display_data"
    }
   ],
   "source": [
    "# Viz of the busiest day of week for order\n",
    "busiest_dow = df_ords_prods_big['order_dow'].plot.hist(width = 0.85,bins = 20, color = '#4c627f')\n",
    "plt.xlabel('order_dow')  # Label for the x-axis\n",
    "plt.title('Histogram of Order Day of Week') # Chart title"
   ]
  },
  {
   "cell_type": "code",
   "execution_count": 63,
   "metadata": {},
   "outputs": [
    {
     "data": {
      "text/plain": [
       "Text(0.5, 1.0, 'Histogram of Order Time of Day')"
      ]
     },
     "execution_count": 63,
     "metadata": {},
     "output_type": "execute_result"
    },
    {
     "data": {
      "image/png": "[encoded data removed]",
      "text/plain": [
       "<Figure size 640x480 with 1 Axes>"
      ]
     },
     "metadata": {},
     "output_type": "display_data"
    }
   ],
   "source": [
    "# Viz of the busiest hour of day for order\n",
    "busiest_hod = df_ords_prods_big['order_hour_of_day'].plot.hist(bins = 24, color = '#7f95b2')\n",
    "\n",
    "plt.xlabel('Order Time of Day')  # Label for the x-axis\n",
    "plt.title('Histogram of Order Time of Day')  # Title of the bar chart"
   ]
  },
  {
   "cell_type": "code",
   "execution_count": 64,
   "metadata": {},
   "outputs": [],
   "source": [
    "# Create Sample data\n",
    "np.random.seed(4)\n",
    "dev = np.random.rand(len(df_ords_prods_big)) <= 0.7\n",
    "\n",
    "# Store 70% of the sample in the data frame big\n",
    "big = df_ords_prods_big[dev]\n",
    "# Store 30% of the sample in the data frame small\n",
    "small = df_ords_prods_big[~dev]"
   ]
  },
  {
   "cell_type": "code",
   "execution_count": 66,
   "metadata": {},
   "outputs": [
    {
     "name": "stderr",
     "output_type": "stream",
     "text": [
      "C:\\Users\\rinde\\anaconda3\\Lib\\site-packages\\seaborn\\_oldcore.py:1119: FutureWarning: use_inf_as_na option is deprecated and will be removed in a future version. Convert inf values to NaN before operating instead.\n",
      "  with pd.option_context('mode.use_inf_as_na', True):\n",
      "C:\\Users\\rinde\\anaconda3\\Lib\\site-packages\\seaborn\\_oldcore.py:1119: FutureWarning: use_inf_as_na option is deprecated and will be removed in a future version. Convert inf values to NaN before operating instead.\n",
      "  with pd.option_context('mode.use_inf_as_na', True):\n"
     ]
    },
    {
     "data": {
      "text/plain": [
       "Text(0.5, 1.0, 'Trend of Product Price with Order Time')"
      ]
     },
     "execution_count": 66,
     "metadata": {},
     "output_type": "execute_result"
    },
    {
     "data": {
      "image/png": "[encoded data removed]",
      "text/plain": [
       "<Figure size 640x480 with 1 Axes>"
      ]
     },
     "metadata": {},
     "output_type": "display_data"
    }
   ],
   "source": [
    "# Create line chart with random small sample data of the dataset to discover the insight of the price of goods and the order time of the day\n",
    "\n",
    "tod_price = sns.lineplot(data = small, x = 'order_hour_of_day',y = 'prices',color = '#5f7b9f')\n",
    "\n",
    "plt.xlabel('Order Time of Day')  # Label for the x-axis\n",
    "plt.title('Trend of Product Price with Order Time')  # Title of the bar chart"
   ]
  },
  {
   "cell_type": "code",
   "execution_count": 67,
   "metadata": {},
   "outputs": [],
   "source": [
    "# Save figure\n",
    "tod_price.figure.savefig(os.path.join(path, '04 Analysis','Visualizations', 'tod_price.png'))"
   ]
  },
  {
   "cell_type": "code",
   "execution_count": 68,
   "metadata": {},
   "outputs": [
    {
     "name": "stderr",
     "output_type": "stream",
     "text": [
      "C:\\Users\\rinde\\anaconda3\\Lib\\site-packages\\seaborn\\_oldcore.py:1119: FutureWarning: use_inf_as_na option is deprecated and will be removed in a future version. Convert inf values to NaN before operating instead.\n",
      "  with pd.option_context('mode.use_inf_as_na', True):\n",
      "C:\\Users\\rinde\\anaconda3\\Lib\\site-packages\\seaborn\\_oldcore.py:1119: FutureWarning: use_inf_as_na option is deprecated and will be removed in a future version. Convert inf values to NaN before operating instead.\n",
      "  with pd.option_context('mode.use_inf_as_na', True):\n"
     ]
    },
    {
     "data": {
      "text/plain": [
       "Text(0.5, 1.0, 'Trend of Product Price with Order Day')"
      ]
     },
     "execution_count": 68,
     "metadata": {},
     "output_type": "execute_result"
    },
    {
     "data": {
      "image/png": "[encoded data removed]",
      "text/plain": [
       "<Figure size 640x480 with 1 Axes>"
      ]
     },
     "metadata": {},
     "output_type": "display_data"
    }
   ],
   "source": [
    "# Create line chart with random small sample data of the dataset\n",
    "\n",
    "dow_price = sns.lineplot(data = small, x = 'order_dow',y = 'prices',color = '#5f7b9f')\n",
    "\n",
    "plt.xlabel('Order Day of Week')  # Label for the x-axis\n",
    "plt.title('Trend of Product Price with Order Day')  # Title of the bar chart"
   ]
  },
  {
   "cell_type": "code",
   "execution_count": 108,
   "metadata": {},
   "outputs": [],
   "source": [
    "# Save figure\n",
    "dow_price.figure.savefig(os.path.join(path, '04 Analysis','Visualizations', 'dow_price.png'))"
   ]
  },
  {
   "cell_type": "code",
   "execution_count": null,
   "metadata": {},
   "outputs": [],
   "source": []
  }
 ],
 "metadata": {
  "kernelspec": {
   "display_name": "Python 3 (ipykernel)",
   "language": "python",
   "name": "python3"
  },
  "language_info": {
   "codemirror_mode": {
    "name": "ipython",
    "version": 3
   },
   "file_extension": ".py",
   "mimetype": "text/x-python",
   "name": "python",
   "nbconvert_exporter": "python",
   "pygments_lexer": "ipython3",
   "version": "3.11.7"
  }
 },
 "nbformat": 4,
 "nbformat_minor": 4
}
